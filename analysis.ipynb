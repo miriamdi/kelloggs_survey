{
 "cells": [
  {
   "cell_type": "code",
   "execution_count": null,
   "id": "e9eee537",
   "metadata": {},
   "outputs": [],
   "source": [
    "a = 1 "
   ]
  },
  {
   "cell_type": "raw",
   "id": "ed777805",
   "metadata": {},
   "source": [
    "# survey link: https://forms.gle/fSgMjoHUfRPDJVAR8"
   ]
  }
 ],
 "metadata": {
  "kernelspec": {
   "display_name": "Python 3 (ipykernel)",
   "language": "python",
   "name": "python3"
  },
  "language_info": {
   "codemirror_mode": {
    "name": "ipython",
    "version": 3
   },
   "file_extension": ".py",
   "mimetype": "text/x-python",
   "name": "python",
   "nbconvert_exporter": "python",
   "pygments_lexer": "ipython3",
   "version": "3.9.7"
  }
 },
 "nbformat": 4,
 "nbformat_minor": 5
}
